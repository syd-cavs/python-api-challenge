{
 "cells": [
  {
   "cell_type": "markdown",
   "metadata": {},
   "source": [
    "# WeatherPy\n",
    "----\n",
    "\n",
    "#### Note\n",
    "* Instructions have been included for each segment. You do not have to follow them exactly, but they are included to help you think through the steps."
   ]
  },
  {
   "cell_type": "code",
   "execution_count": 1,
   "metadata": {
    "scrolled": true
   },
   "outputs": [],
   "source": [
    "# Dependencies and Setup\n",
    "import matplotlib.pyplot as plt\n",
    "import pandas as pd\n",
    "import numpy as np\n",
    "import requests\n",
    "import time\n",
    "from scipy.stats import linregress\n",
    "\n",
    "# Import API key\n",
    "from api_keys import weather_api_key\n",
    "\n",
    "# Incorporated citipy to determine city based on latitude and longitude\n",
    "from citipy import citipy\n",
    "\n",
    "# Output File (CSV)\n",
    "output_data_file = \"output_data/cities.csv\"\n",
    "\n",
    "# Range of latitudes and longitudes\n",
    "lat_range = (-90, 90)\n",
    "lng_range = (-180, 180)"
   ]
  },
  {
   "cell_type": "markdown",
   "metadata": {},
   "source": [
    "## Generate Cities List"
   ]
  },
  {
   "cell_type": "code",
   "execution_count": 2,
   "metadata": {},
   "outputs": [
    {
     "data": {
      "text/plain": [
       "577"
      ]
     },
     "execution_count": 2,
     "metadata": {},
     "output_type": "execute_result"
    }
   ],
   "source": [
    "# List for holding lat_lngs and cities\n",
    "lat_lngs = []\n",
    "cities = []\n",
    "\n",
    "# Create a set of random lat and lng combinations\n",
    "lats = np.random.uniform(lat_range[0], lat_range[1], size=1500)\n",
    "lngs = np.random.uniform(lng_range[0], lng_range[1], size=1500)\n",
    "lat_lngs = zip(lats, lngs)\n",
    "\n",
    "# Identify nearest city for each lat, lng combination\n",
    "for lat_lng in lat_lngs:\n",
    "    city = citipy.nearest_city(lat_lng[0], lat_lng[1]).city_name\n",
    "    \n",
    "    # If the city is unique, then add it to a our cities list\n",
    "    if city not in cities:\n",
    "        cities.append(city)\n",
    "\n",
    "# Print the city count to confirm sufficient count\n",
    "len(cities)"
   ]
  },
  {
   "cell_type": "markdown",
   "metadata": {},
   "source": [
    "### Perform API Calls\n",
    "* Perform a weather check on each city using a series of successive API calls.\n",
    "* Include a print log of each city as it'sbeing processed (with the city number and city name).\n"
   ]
  },
  {
   "cell_type": "code",
   "execution_count": null,
   "metadata": {},
   "outputs": [
    {
     "name": "stdout",
     "output_type": "stream",
     "text": [
      "Beginning Data Retrieval \n",
      "-----------------------------\n",
      "City not found. Skipping...\n",
      "Processing Record 0 of Set 1 : alofi\n",
      "Processing Record 1 of Set 1 : tynda\n",
      "Processing Record 2 of Set 1 : barrow\n",
      "Processing Record 3 of Set 1 : zhaotong\n",
      "Processing Record 4 of Set 1 : santa fe\n",
      "Processing Record 5 of Set 1 : hobart\n",
      "Processing Record 6 of Set 1 : hilo\n",
      "Processing Record 7 of Set 1 : butaritari\n",
      "Processing Record 8 of Set 1 : albany\n",
      "Processing Record 9 of Set 1 : kapaa\n",
      "Processing Record 10 of Set 1 : hithadhoo\n",
      "Processing Record 11 of Set 1 : hermanus\n",
      "Processing Record 12 of Set 1 : klaksvik\n",
      "Processing Record 13 of Set 1 : wauconda\n",
      "Processing Record 14 of Set 1 : la ronge\n",
      "Processing Record 15 of Set 1 : urumqi\n",
      "Processing Record 16 of Set 1 : gweta\n",
      "Processing Record 17 of Set 1 : khatanga\n",
      "City not found. Skipping...\n",
      "City not found. Skipping...\n",
      "Processing Record 18 of Set 1 : rawson\n",
      "Processing Record 19 of Set 1 : puerto del rosario\n",
      "Processing Record 20 of Set 1 : viedma\n",
      "Processing Record 21 of Set 1 : cape town\n",
      "Processing Record 22 of Set 1 : vaini\n",
      "Processing Record 23 of Set 1 : bokoro\n",
      "Processing Record 24 of Set 1 : ambilobe\n",
      "Processing Record 25 of Set 1 : busselton\n",
      "Processing Record 26 of Set 1 : qaanaaq\n",
      "Processing Record 27 of Set 1 : lavrentiya\n",
      "City not found. Skipping...\n",
      "Processing Record 28 of Set 1 : nuuk\n",
      "Processing Record 29 of Set 1 : mataura\n",
      "Processing Record 30 of Set 1 : hue\n",
      "Processing Record 31 of Set 1 : bluff\n",
      "Processing Record 32 of Set 1 : arraial do cabo\n",
      "Processing Record 33 of Set 1 : carnarvon\n",
      "Processing Record 34 of Set 1 : rikitea\n",
      "Processing Record 35 of Set 1 : khani\n",
      "Processing Record 36 of Set 1 : richards bay\n",
      "Processing Record 37 of Set 1 : hofn\n",
      "Processing Record 38 of Set 1 : jamestown\n",
      "Processing Record 39 of Set 1 : sitka\n",
      "Processing Record 40 of Set 1 : dubbo\n",
      "Processing Record 41 of Set 1 : tabou\n",
      "Processing Record 42 of Set 1 : yellowknife\n",
      "Processing Record 43 of Set 1 : the valley\n",
      "Processing Record 44 of Set 1 : pevek\n",
      "Processing Record 45 of Set 1 : qandala\n",
      "Processing Record 46 of Set 1 : hervey bay\n",
      "Processing Record 47 of Set 1 : wanxian\n",
      "Processing Record 48 of Set 1 : palasa\n",
      "Processing Record 49 of Set 1 : geraldton\n",
      "Processing Record 0 of Set 2 : portland\n",
      "Processing Record 1 of Set 2 : taoudenni\n",
      "Processing Record 2 of Set 2 : tuktoyaktuk\n",
      "Processing Record 3 of Set 2 : wawa\n",
      "Processing Record 4 of Set 2 : mochalishche\n",
      "Processing Record 5 of Set 2 : haines junction\n",
      "Processing Record 6 of Set 2 : graaff-reinet\n",
      "Processing Record 7 of Set 2 : punta arenas\n",
      "City not found. Skipping...\n",
      "Processing Record 8 of Set 2 : dikson\n",
      "Processing Record 9 of Set 2 : port alfred\n",
      "Processing Record 10 of Set 2 : cabo san lucas\n",
      "Processing Record 11 of Set 2 : dod ballapur\n",
      "City not found. Skipping...\n",
      "Processing Record 12 of Set 2 : thanh hoa\n",
      "Processing Record 13 of Set 2 : taos\n",
      "Processing Record 14 of Set 2 : airai\n",
      "Processing Record 15 of Set 2 : pontianak\n",
      "Processing Record 16 of Set 2 : kampot\n",
      "Processing Record 17 of Set 2 : sibolga\n",
      "City not found. Skipping...\n",
      "Processing Record 18 of Set 2 : sangamner\n",
      "Processing Record 19 of Set 2 : kiama\n",
      "Processing Record 20 of Set 2 : atuona\n",
      "Processing Record 21 of Set 2 : tahoua\n",
      "Processing Record 22 of Set 2 : bathsheba\n",
      "Processing Record 23 of Set 2 : chardara\n",
      "Processing Record 24 of Set 2 : baglung\n",
      "Processing Record 25 of Set 2 : kruisfontein\n",
      "Processing Record 26 of Set 2 : sabang\n",
      "Processing Record 27 of Set 2 : grahamstown\n",
      "Processing Record 28 of Set 2 : santa maria da vitoria\n",
      "Processing Record 29 of Set 2 : yaya\n",
      "Processing Record 30 of Set 2 : saint-philippe\n",
      "Processing Record 31 of Set 2 : iqaluit\n",
      "Processing Record 32 of Set 2 : narsaq\n",
      "City not found. Skipping...\n",
      "Processing Record 33 of Set 2 : ushuaia\n",
      "Processing Record 34 of Set 2 : bethel\n",
      "Processing Record 35 of Set 2 : gamba\n",
      "Processing Record 36 of Set 2 : dalnerechensk\n",
      "Processing Record 37 of Set 2 : east london\n",
      "Processing Record 38 of Set 2 : los llanos de aridane\n",
      "Processing Record 39 of Set 2 : aklavik\n",
      "Processing Record 40 of Set 2 : mutis\n",
      "Processing Record 41 of Set 2 : kodiak\n",
      "Processing Record 42 of Set 2 : manzhouli\n",
      "Processing Record 43 of Set 2 : puerto ayora\n",
      "Processing Record 44 of Set 2 : thompson\n",
      "Processing Record 45 of Set 2 : batemans bay\n",
      "Processing Record 46 of Set 2 : hasaki\n",
      "Processing Record 47 of Set 2 : grindavik\n",
      "Processing Record 48 of Set 2 : san patricio\n",
      "Processing Record 49 of Set 2 : mahebourg\n",
      "Processing Record 0 of Set 3 : valparai\n",
      "Processing Record 1 of Set 3 : yar-sale\n",
      "City not found. Skipping...\n",
      "Processing Record 2 of Set 3 : yerbogachen\n",
      "Processing Record 3 of Set 3 : tuatapere\n",
      "City not found. Skipping...\n",
      "Processing Record 4 of Set 3 : veere\n",
      "Processing Record 5 of Set 3 : alyangula\n",
      "Processing Record 6 of Set 3 : natal\n",
      "Processing Record 7 of Set 3 : horsham\n",
      "Processing Record 8 of Set 3 : saint-joseph\n",
      "Processing Record 9 of Set 3 : praia\n",
      "Processing Record 10 of Set 3 : hualmay\n",
      "Processing Record 11 of Set 3 : port lincoln\n",
      "Processing Record 12 of Set 3 : belmonte\n",
      "Processing Record 13 of Set 3 : noumea\n",
      "Processing Record 14 of Set 3 : russell\n",
      "Processing Record 15 of Set 3 : vaitape\n",
      "Processing Record 16 of Set 3 : avarua\n",
      "Processing Record 17 of Set 3 : vilyuysk\n",
      "Processing Record 18 of Set 3 : breves\n",
      "Processing Record 19 of Set 3 : lewisburg\n",
      "City not found. Skipping...\n",
      "Processing Record 20 of Set 3 : whitehorse\n",
      "Processing Record 21 of Set 3 : warrnambool\n",
      "Processing Record 22 of Set 3 : fortuna\n",
      "Processing Record 23 of Set 3 : dunedin\n",
      "City not found. Skipping...\n",
      "City not found. Skipping...\n",
      "Processing Record 24 of Set 3 : marawi\n",
      "City not found. Skipping...\n",
      "Processing Record 25 of Set 3 : manono\n",
      "Processing Record 26 of Set 3 : vanavara\n",
      "Processing Record 27 of Set 3 : yulara\n",
      "Processing Record 28 of Set 3 : san isidro\n",
      "Processing Record 29 of Set 3 : laguna\n",
      "Processing Record 30 of Set 3 : upata\n",
      "Processing Record 31 of Set 3 : saint george\n",
      "City not found. Skipping...\n",
      "Processing Record 32 of Set 3 : itaquyry\n",
      "City not found. Skipping...\n",
      "Processing Record 33 of Set 3 : ponta do sol\n",
      "Processing Record 34 of Set 3 : severo-kurilsk\n",
      "Processing Record 35 of Set 3 : kudahuvadhoo\n",
      "Processing Record 36 of Set 3 : mgandu\n",
      "Processing Record 37 of Set 3 : kiruna\n",
      "Processing Record 38 of Set 3 : taboga\n",
      "Processing Record 39 of Set 3 : ucluelet\n",
      "Processing Record 40 of Set 3 : coihueco\n",
      "Processing Record 41 of Set 3 : port elizabeth\n",
      "Processing Record 42 of Set 3 : bredasdorp\n",
      "Processing Record 43 of Set 3 : vardo\n",
      "Processing Record 44 of Set 3 : kamenka\n",
      "Processing Record 45 of Set 3 : longyearbyen\n",
      "Processing Record 46 of Set 3 : ulladulla\n",
      "Processing Record 47 of Set 3 : zemio\n",
      "City not found. Skipping...\n",
      "Processing Record 48 of Set 3 : sivagiri\n",
      "Processing Record 49 of Set 3 : umm kaddadah\n",
      "Processing Record 0 of Set 4 : matagami\n",
      "Processing Record 1 of Set 4 : port-gentil\n",
      "City not found. Skipping...\n",
      "Processing Record 2 of Set 4 : nikolskoye\n",
      "Processing Record 3 of Set 4 : talnakh\n",
      "Processing Record 4 of Set 4 : chuy\n",
      "Processing Record 5 of Set 4 : namibe\n",
      "Processing Record 6 of Set 4 : santa rosa\n",
      "Processing Record 7 of Set 4 : hameenlinna\n",
      "Processing Record 8 of Set 4 : teberda\n"
     ]
    }
   ],
   "source": [
    "city_name = []\n",
    "lat = []\n",
    "long = []\n",
    "max_temp = []\n",
    "humidity = []\n",
    "cloudiness = []\n",
    "wind_speed = []\n",
    "country = []\n",
    "date = []\n",
    "\n",
    "print(\"Beginning Data Retrieval \")\n",
    "print(\"-----------------------------\")\n",
    "\n",
    "base_url = \"http://api.openweathermap.org/data/2.5/weather?\"\n",
    "units = \"imperial\"\n",
    "query_url = f\"{base_url}appid={weather_api_key}&units={units}&q=\"\n",
    "\n",
    "i = 0\n",
    "j = 1\n",
    "\n",
    "for city in cities:   \n",
    "    try:\n",
    "        response = requests.get(query_url + city).json()\n",
    "        city_name.append(response[\"name\"])\n",
    "        lat.append(response[\"coord\"][\"lat\"])\n",
    "        long.append(response[\"coord\"][\"lon\"])        \n",
    "        max_temp.append(response['main']['temp_max'])  \n",
    "        humidity.append(response[\"main\"][\"humidity\"])        \n",
    "        cloudiness.append(response[\"clouds\"][\"all\"])\n",
    "        wind_speed.append(response[\"wind\"][\"speed\"])\n",
    "        country.append(response[\"sys\"][\"country\"])\n",
    "        date.append(response[\"dt\"])            \n",
    "        print(f\"Processing Record {i} of Set {j} : {city}\") \n",
    "        i = i + 1\n",
    "        if i > 49:\n",
    "            i = 0\n",
    "            j = j + 1\n",
    "            \n",
    "    except(KeyError, IndexError):\n",
    "        print(\"City not found. Skipping...\")\n",
    "\n",
    "print(\"-----------------------------\")\n",
    "print(\"Data Retrieval Complete\")"
   ]
  },
  {
   "cell_type": "markdown",
   "metadata": {},
   "source": [
    "### Convert Raw Data to DataFrame\n",
    "* Export the city data into a .csv.\n",
    "* Display the DataFrame"
   ]
  },
  {
   "cell_type": "code",
   "execution_count": null,
   "metadata": {},
   "outputs": [],
   "source": [
    "weatherpy_df = pd.DataFrame({\"City\": city_name,\n",
    "                            \"Latitude\": lat,\n",
    "                            \"Longitude\": long,\n",
    "                            \"Maximum Temperature\": max_temp,\n",
    "                            \"Humidity\": humidity,\n",
    "                            \"Cloudiness\": cloudiness,\n",
    "                            \"Wind Speed\": wind_speed,\n",
    "                            \"Country\": country,\n",
    "                            \"Date\": date})\n",
    "weatherpy_df.head()"
   ]
  },
  {
   "cell_type": "code",
   "execution_count": null,
   "metadata": {},
   "outputs": [],
   "source": [
    "weatherpy_df.describe()"
   ]
  },
  {
   "cell_type": "code",
   "execution_count": null,
   "metadata": {},
   "outputs": [],
   "source": [
    "weatherpy_df.to_csv(\"../output_data/city.csv\")"
   ]
  },
  {
   "cell_type": "markdown",
   "metadata": {},
   "source": [
    "## Inspect the data and remove the cities where the humidity > 100%.\n",
    "----\n",
    "Skip this step if there are no cities that have humidity > 100%. "
   ]
  },
  {
   "cell_type": "code",
   "execution_count": null,
   "metadata": {},
   "outputs": [],
   "source": [
    "#  Get the indices of cities that have humidity over 100%.\n",
    "high_humidity = weatherpy_df.loc[weatherpy_df['Humidity'] >= 100]\n",
    "high_humidity"
   ]
  },
  {
   "cell_type": "code",
   "execution_count": null,
   "metadata": {},
   "outputs": [],
   "source": [
    "# Make a new DataFrame equal to the city data to drop all humidity outliers by index.\n",
    "# Passing \"inplace=False\" will make a copy of the city_data DataFrame, which we call \"clean_city_data\".\n",
    "clean_city_data = weatherpy_df.loc[weatherpy_df['Humidity'] != 100]\n",
    "clean_city_data.head()"
   ]
  },
  {
   "cell_type": "code",
   "execution_count": null,
   "metadata": {},
   "outputs": [],
   "source": [
    "clean_city_data.describe()"
   ]
  },
  {
   "cell_type": "markdown",
   "metadata": {},
   "source": [
    "## Plotting the Data\n",
    "* Use proper labeling of the plots using plot titles (including date of analysis) and axes labels.\n",
    "* Save the plotted figures as .pngs."
   ]
  },
  {
   "cell_type": "markdown",
   "metadata": {},
   "source": [
    "## Latitude vs. Temperature Plot"
   ]
  },
  {
   "cell_type": "code",
   "execution_count": null,
   "metadata": {
    "scrolled": true
   },
   "outputs": [],
   "source": [
    "latitude = clean_city_data['Latitude']\n",
    "temperature = clean_city_data['Maximum Temperature']\n",
    "dated = \"(04/18/2021)\"\n",
    "\n",
    "x_1 = latitude\n",
    "y_1 = temperature\n",
    "scatter1_label = \"City Latitude vs. Max Temperature\"\n",
    "\n",
    "plt.scatter(x_1, y_1, label=scatter1_label, color=\"limegreen\", edgecolor='green')\n",
    "plt.legend(loc='best')\n",
    "plt.title(f\"City Latitude vs. Max Temperature {dated}\")\n",
    "plt.xlabel('Latitude')\n",
    "plt.ylabel('Maximum Temperature')\n",
    "plt.show()"
   ]
  },
  {
   "cell_type": "markdown",
   "metadata": {},
   "source": [
    "## Latitude vs. Humidity Plot"
   ]
  },
  {
   "cell_type": "code",
   "execution_count": null,
   "metadata": {},
   "outputs": [],
   "source": [
    "humid = clean_city_data['Humidity']\n",
    "\n",
    "x_2 = latitude\n",
    "y_2 = humid\n",
    "scatter2_label = \"City Latitude vs. Humidity\"\n",
    "\n",
    "plt.scatter(x_2, y_2, label=scatter2_label, color=\"pink\", edgecolor='red')\n",
    "plt.legend(loc='best')\n",
    "plt.title(f\"City Latitude vs. Humidity {dated}\")\n",
    "plt.xlabel('Latitude')\n",
    "plt.ylabel('Humidity')\n",
    "plt.show()"
   ]
  },
  {
   "cell_type": "markdown",
   "metadata": {},
   "source": [
    "## Latitude vs. Cloudiness Plot"
   ]
  },
  {
   "cell_type": "code",
   "execution_count": null,
   "metadata": {},
   "outputs": [],
   "source": [
    "cloudy = clean_city_data['Cloudiness']\n",
    "\n",
    "x_3 = latitude\n",
    "y_3 = cloudy\n",
    "scatter3_label = \"City Latitude vs. Cloudiness\"\n",
    "\n",
    "plt.scatter(x_3, y_3, label=scatter3_label, color=\"lightskyblue\", edgecolor='blue')\n",
    "plt.legend(loc='best')\n",
    "plt.title(f\"City Latitude vs. Humidity {dated}\")\n",
    "plt.xlabel('Latitude')\n",
    "plt.ylabel('Cloudiness')\n",
    "plt.show()"
   ]
  },
  {
   "cell_type": "markdown",
   "metadata": {},
   "source": [
    "## Latitude vs. Wind Speed Plot"
   ]
  },
  {
   "cell_type": "code",
   "execution_count": null,
   "metadata": {},
   "outputs": [],
   "source": [
    "speed_wind = clean_city_data['Wind Speed']\n",
    "\n",
    "x_4 = latitude\n",
    "y_4 = speed_wind\n",
    "scatter4_label = \"City Latitude vs. Wind Speed\"\n",
    "\n",
    "plt.scatter(x_4, y_4, label=scatter4_label, color=\"mediumpurple\", edgecolor='purple')\n",
    "plt.legend(loc='best')\n",
    "plt.title(f\"City Latitude vs. Wind Speed {dated}\")\n",
    "plt.xlabel('Latitude')\n",
    "plt.ylabel('Wind Speed')\n",
    "plt.show()"
   ]
  },
  {
   "cell_type": "markdown",
   "metadata": {},
   "source": [
    "## Linear Regression"
   ]
  },
  {
   "cell_type": "code",
   "execution_count": null,
   "metadata": {},
   "outputs": [],
   "source": [
    "northern_hemisphere = clean_city_data.loc[clean_city_data['Latitude'] > 0]\n",
    "southern_hemisphere = clean_city_data.loc[clean_city_data['Latitude'] < 0]"
   ]
  },
  {
   "cell_type": "markdown",
   "metadata": {},
   "source": [
    "####  Northern Hemisphere - Max Temp vs. Latitude Linear Regression"
   ]
  },
  {
   "cell_type": "code",
   "execution_count": null,
   "metadata": {},
   "outputs": [],
   "source": [
    "northern_latitude = northern_hemisphere['Latitude']\n",
    "northern_temp = northern_hemisphere['Maximum Temperature']\n",
    "\n",
    "x_5 = northern_latitude\n",
    "y_5 = northern_temp\n",
    "scatter5_label = \"City Latitude vs. Max Temperature\"\n",
    "\n",
    "(slope5, intercept5, rvalue5, pvalue5, stderr5) = linregress(x_5, y_5)\n",
    "regress_values5 = x_5 * slope5 + intercept5\n",
    "\n",
    "line_eq5 = \"y = \" + str(round(slope5, 2)) + \"x + \" + str(round(intercept5, 2))\n",
    "\n",
    "plt.scatter(x_5, y_5, label=scatter5_label, color=\"turquoise\", edgecolor='teal')\n",
    "plt.plot(x_5, regress_values5, \"b-\")\n",
    "plt.annotate(line_eq5, (5, 10), fontsize=15, color=\"blue\")\n",
    "plt.legend(loc='best')\n",
    "plt.title(\"Northern Hemisphere: City Latitude vs. Max Temperature\")\n",
    "plt.xlabel('Latitude')\n",
    "plt.ylabel('Maximum Temperature')\n",
    "print(f\"The r-value is: {rvalue5}\")\n",
    "plt.show()"
   ]
  },
  {
   "cell_type": "markdown",
   "metadata": {},
   "source": [
    "####  Southern Hemisphere - Max Temp vs. Latitude Linear Regression"
   ]
  },
  {
   "cell_type": "code",
   "execution_count": null,
   "metadata": {},
   "outputs": [],
   "source": [
    "southern_latitude = southern_hemisphere['Latitude']\n",
    "southern_temp = southern_hemisphere['Maximum Temperature']\n",
    "\n",
    "x_6 = southern_latitude\n",
    "y_6 = southern_temp\n",
    "scatter6_label = \"City Latitude vs. Max Temperature\"\n",
    "\n",
    "(slope6, intercept6, rvalue6, pvalue6, stderr6) = linregress(x_6, y_6)\n",
    "regress_values6 = x_6 * slope6 + intercept6\n",
    "\n",
    "line_eq6 = \"y = \" + str(round(slope6, 2)) + \"x + \" + str(round(intercept6, 2))\n",
    "\n",
    "plt.scatter(x_6, y_6, label=scatter6_label, color=\"pink\", edgecolor='lightcoral')\n",
    "plt.plot(x_6, regress_values6, \"r-\")\n",
    "plt.annotate(line_eq6, (-25, 40), fontsize=15, color=\"red\")\n",
    "plt.legend(loc='best')\n",
    "plt.title(\"Southern Hemisphere: City Latitude vs. Max Temperature\")\n",
    "plt.xlabel('Latitude')\n",
    "plt.ylabel('Maximum Temperature')\n",
    "print(f\"The r-value is: {rvalue6}\")\n",
    "plt.show()"
   ]
  },
  {
   "cell_type": "markdown",
   "metadata": {},
   "source": [
    "####  Northern Hemisphere - Humidity (%) vs. Latitude Linear Regression"
   ]
  },
  {
   "cell_type": "code",
   "execution_count": null,
   "metadata": {},
   "outputs": [],
   "source": [
    "northern_humidity = northern_hemisphere['Humidity']\n",
    "\n",
    "x_7 = northern_latitude\n",
    "y_7 = northern_humidity\n",
    "scatter7_label = \"City Latitude vs. Humidity\"\n",
    "\n",
    "(slope7, intercept7, rvalue7, pvalue7, stderr7) = linregress(x_7, y_7)\n",
    "regress_values7 = x_7 * slope7 + intercept7\n",
    "\n",
    "line_eq7 = \"y = \" + str(round(slope7, 2)) + \"x + \" + str(round(intercept7, 2))\n",
    "\n",
    "plt.scatter(x_7, y_7, label=scatter7_label, color=\"turquoise\", edgecolor='teal')\n",
    "plt.plot(x_7, regress_values7, \"b-\")\n",
    "plt.annotate(line_eq7, (45, 12), fontsize=15, color=\"blue\")\n",
    "plt.legend(loc='best')\n",
    "plt.title(\"Northern Hemisphere: City Latitude vs. Humidity %\")\n",
    "plt.xlabel('Latitude')\n",
    "plt.ylabel('Humidity')\n",
    "print(f\"The r-value is: {rvalue7}\")\n",
    "plt.show()"
   ]
  },
  {
   "cell_type": "markdown",
   "metadata": {},
   "source": [
    "####  Southern Hemisphere - Humidity (%) vs. Latitude Linear Regression"
   ]
  },
  {
   "cell_type": "code",
   "execution_count": null,
   "metadata": {},
   "outputs": [],
   "source": [
    "southern_humidity = southern_hemisphere['Humidity']\n",
    "\n",
    "x_8 = southern_latitude\n",
    "y_8 = southern_humidity\n",
    "scatter8_label = \"City Latitude vs. Humidity\"\n",
    "\n",
    "(slope8, intercept8, rvalue8, pvalue8, stderr8) = linregress(x_8, y_8)\n",
    "regress_values8 = x_8 * slope8 + intercept8\n",
    "\n",
    "line_eq8 = \"y = \" + str(round(slope8, 2)) + \"x + \" + str(round(intercept8, 2))\n",
    "\n",
    "plt.scatter(x_8, y_8, label=scatter8_label, color=\"pink\", edgecolor='lightcoral')\n",
    "plt.plot(x_8, regress_values8, \"r-\")\n",
    "plt.annotate(line_eq8, (-55, 25), fontsize=15, color=\"red\")\n",
    "plt.legend(loc='best')\n",
    "plt.title(\"Southern Hemisphere: City Latitude vs. Humidity %\")\n",
    "plt.xlabel('Latitude')\n",
    "plt.ylabel('Humidity')\n",
    "print(f\"The r-value is: {rvalue8}\")\n",
    "plt.show()"
   ]
  },
  {
   "cell_type": "markdown",
   "metadata": {},
   "source": [
    "####  Northern Hemisphere - Cloudiness (%) vs. Latitude Linear Regression"
   ]
  },
  {
   "cell_type": "code",
   "execution_count": null,
   "metadata": {},
   "outputs": [],
   "source": [
    "northern_cloudiness = northern_hemisphere['Cloudiness']\n",
    "\n",
    "x_9 = northern_latitude\n",
    "y_9 = northern_cloudiness\n",
    "scatter9_label = \"City Latitude vs. Cloudiness\"\n",
    "\n",
    "(slope9, intercept9, rvalue9, pvalue9, stderr9) = linregress(x_9, y_9)\n",
    "regress_values9 = x_9 * slope9 + intercept9\n",
    "\n",
    "line_eq9 = \"y = \" + str(round(slope9, 2)) + \"x + \" + str(round(intercept9, 2))\n",
    "\n",
    "plt.scatter(x_9, y_9, label=scatter9_label, color=\"turquoise\", edgecolor='teal')\n",
    "plt.plot(x_9, regress_values9, \"b-\")\n",
    "plt.annotate(line_eq9, (5, 60), fontsize=15, color=\"blue\")\n",
    "plt.legend(loc='best')\n",
    "plt.title(\"Northern Hemisphere: City Latitude vs. Cloudiness %\")\n",
    "plt.xlabel('Latitude')\n",
    "plt.ylabel('Cloudiness')\n",
    "print(f\"The r-value is: {rvalue9}\")\n",
    "plt.show()"
   ]
  },
  {
   "cell_type": "markdown",
   "metadata": {},
   "source": [
    "####  Southern Hemisphere - Cloudiness (%) vs. Latitude Linear Regression"
   ]
  },
  {
   "cell_type": "code",
   "execution_count": null,
   "metadata": {},
   "outputs": [],
   "source": [
    "southern_cloud = southern_hemisphere['Cloudiness']\n",
    "\n",
    "x_10 = southern_latitude\n",
    "y_10 = southern_cloud\n",
    "scatter10_label = \"City Latitude vs. Cloudiness\"\n",
    "\n",
    "(slope10, intercept10, rvalue10, pvalue10, stderr10) = linregress(x_10, y_10)\n",
    "regress_values10 = x_10 * slope10 + intercept10\n",
    "\n",
    "line_eq10 = \"y = \" + str(round(slope10, 2)) + \"x + \" + str(round(intercept10, 2))\n",
    "\n",
    "plt.scatter(x_10, y_10, label=scatter10_label, color=\"pink\", edgecolor='lightcoral')\n",
    "plt.plot(x_10, regress_values10, \"r-\")\n",
    "plt.annotate(line_eq10, (-55, 65), fontsize=15, color=\"red\")\n",
    "plt.legend(loc='best')\n",
    "plt.title(\"Southern Hemisphere: City Latitude vs. Cloudiness %\")\n",
    "plt.xlabel('Latitude')\n",
    "plt.ylabel('Cloudiness')\n",
    "print(f\"The r-value is: {rvalue10}\")\n",
    "plt.show()"
   ]
  },
  {
   "cell_type": "markdown",
   "metadata": {},
   "source": [
    "####  Northern Hemisphere - Wind Speed (mph) vs. Latitude Linear Regression"
   ]
  },
  {
   "cell_type": "code",
   "execution_count": null,
   "metadata": {},
   "outputs": [],
   "source": [
    "northern_wind = northern_hemisphere['Wind Speed']\n",
    "\n",
    "x_11 = northern_latitude\n",
    "y_11 = northern_wind\n",
    "scatter11_label = \"City Latitude vs. Wind Speed\"\n",
    "\n",
    "(slope11, intercept11, rvalue11, pvalue11, stderr11) = linregress(x_11, y_11)\n",
    "regress_values11 = x_11 * slope11 + intercept11\n",
    "\n",
    "line_eq11 = \"y = \" + str(round(slope11, 2)) + \"x + \" + str(round(intercept11, 2))\n",
    "\n",
    "plt.scatter(x_11, y_11, label=scatter11_label, color=\"turquoise\", edgecolor='teal')\n",
    "plt.plot(x_11, regress_values11, \"b-\")\n",
    "plt.annotate(line_eq11, (0, 21), fontsize=15, color=\"blue\")\n",
    "plt.legend(loc='best')\n",
    "plt.title(\"Northern Hemisphere: City Latitude vs. Wind Speed (mph)\")\n",
    "plt.xlabel('Latitude')\n",
    "plt.ylabel('Wind Speed')\n",
    "print(f\"The r-value is: {rvalue11}\")\n",
    "plt.show()"
   ]
  },
  {
   "cell_type": "markdown",
   "metadata": {},
   "source": [
    "####  Southern Hemisphere - Wind Speed (mph) vs. Latitude Linear Regression"
   ]
  },
  {
   "cell_type": "code",
   "execution_count": null,
   "metadata": {},
   "outputs": [],
   "source": [
    "southern_wind = southern_hemisphere['Wind Speed']\n",
    "\n",
    "x_12 = southern_latitude\n",
    "y_12 = southern_wind\n",
    "scatter12_label = \"City Latitude vs. Wind Speed\"\n",
    "\n",
    "(slope12, intercept12, rvalue12, pvalue12, stderr12) = linregress(x_12, y_12)\n",
    "regress_values12 = x_12 * slope12 + intercept12\n",
    "\n",
    "line_eq12 = \"y = \" + str(round(slope12, 2)) + \"x + \" + str(round(intercept12, 2))\n",
    "\n",
    "plt.scatter(x_12, y_12, label=scatter12_label, color=\"pink\", edgecolor='lightcoral')\n",
    "plt.plot(x_12, regress_values12, \"r-\")\n",
    "plt.annotate(line_eq12, (-50, 21), fontsize=15, color=\"red\")\n",
    "plt.legend(loc='best')\n",
    "plt.title(\"Southern Hemisphere: City Latitude vs. Wind Speed (mph)\")\n",
    "plt.xlabel('Latitude')\n",
    "plt.ylabel('Wind Speed')\n",
    "print(f\"The correlation coefficient is: {rvalue12}\")\n",
    "plt.show()"
   ]
  },
  {
   "cell_type": "code",
   "execution_count": null,
   "metadata": {},
   "outputs": [],
   "source": []
  }
 ],
 "metadata": {
  "anaconda-cloud": {},
  "kernel_info": {
   "name": "python3"
  },
  "kernelspec": {
   "display_name": "Python [conda env:PythonData] *",
   "language": "python",
   "name": "conda-env-PythonData-py"
  },
  "language_info": {
   "codemirror_mode": {
    "name": "ipython",
    "version": 3
   },
   "file_extension": ".py",
   "mimetype": "text/x-python",
   "name": "python",
   "nbconvert_exporter": "python",
   "pygments_lexer": "ipython3",
   "version": "3.6.10"
  },
  "latex_envs": {
   "LaTeX_envs_menu_present": true,
   "autoclose": false,
   "autocomplete": true,
   "bibliofile": "biblio.bib",
   "cite_by": "apalike",
   "current_citInitial": 1,
   "eqLabelWithNumbers": true,
   "eqNumInitial": 1,
   "hotkeys": {
    "equation": "Ctrl-E",
    "itemize": "Ctrl-I"
   },
   "labels_anchors": false,
   "latex_user_defs": false,
   "report_style_numbering": false,
   "user_envs_cfg": false
  },
  "nteract": {
   "version": "0.12.3"
  }
 },
 "nbformat": 4,
 "nbformat_minor": 2
}
